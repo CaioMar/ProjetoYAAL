{
 "cells": [
  {
   "cell_type": "code",
   "execution_count": 524,
   "metadata": {},
   "outputs": [],
   "source": [
    "import os\n",
    "import numpy as np\n",
    "import pandas as pd\n",
    "import glob\n",
    "%matplotlib inline\n",
    "import seaborn as sns\n",
    "import matplotlib.pyplot as plt\n",
    "import matplotlib.colors as colors\n",
    "sns.set()"
   ]
  },
  {
   "cell_type": "code",
   "execution_count": 335,
   "metadata": {},
   "outputs": [],
   "source": [
    "listdates = glob.glob('20*.jpg')"
   ]
  },
  {
   "cell_type": "code",
   "execution_count": 336,
   "metadata": {},
   "outputs": [],
   "source": [
    "listdates.remove('2015-08-09-02.jpg')"
   ]
  },
  {
   "cell_type": "code",
   "execution_count": 337,
   "metadata": {},
   "outputs": [
    {
     "data": {
      "text/plain": [
       "168"
      ]
     },
     "execution_count": 337,
     "metadata": {},
     "output_type": "execute_result"
    }
   ],
   "source": [
    "len(listdates)"
   ]
  },
  {
   "cell_type": "code",
   "execution_count": 338,
   "metadata": {},
   "outputs": [],
   "source": [
    "name = []\n",
    "for i, _ in enumerate(listdates):\n",
    "    name += [os.path.splitext(listdates[i])[0]]\n",
    "name[name.index('2015-08-09-01')] = '2015-08-09'"
   ]
  },
  {
   "cell_type": "code",
   "execution_count": 339,
   "metadata": {},
   "outputs": [],
   "source": [
    "with open('YAAL_dates.csv','w') as YAAL:\n",
    "    for i in name:\n",
    "        YAAL.write(i+'\\n')"
   ]
  },
  {
   "cell_type": "code",
   "execution_count": 340,
   "metadata": {},
   "outputs": [],
   "source": [
    "data = pd.read_csv('YAAL_dates.csv', parse_dates=True, infer_datetime_format=True, index_col=0,  header = 0, names=['date'])"
   ]
  },
  {
   "cell_type": "code",
   "execution_count": 341,
   "metadata": {},
   "outputs": [],
   "source": [
    "data = data.sort_index()"
   ]
  },
  {
   "cell_type": "code",
   "execution_count": 168,
   "metadata": {},
   "outputs": [
    {
     "data": {
      "text/plain": [
       "Timestamp('2014-06-08 00:00:00')"
      ]
     },
     "execution_count": 168,
     "metadata": {},
     "output_type": "execute_result"
    }
   ],
   "source": [
    "data.index[0]"
   ]
  },
  {
   "cell_type": "code",
   "execution_count": 342,
   "metadata": {},
   "outputs": [],
   "source": [
    "weekday = []\n",
    "for i,_ in enumerate(data.index):\n",
    "    weekday += [data.index[i].weekday()]"
   ]
  },
  {
   "cell_type": "code",
   "execution_count": 343,
   "metadata": {},
   "outputs": [],
   "source": [
    "data['weekday'] = weekday"
   ]
  },
  {
   "cell_type": "code",
   "execution_count": 346,
   "metadata": {},
   "outputs": [
    {
     "data": {
      "text/html": [
       "<div>\n",
       "<style scoped>\n",
       "    .dataframe tbody tr th:only-of-type {\n",
       "        vertical-align: middle;\n",
       "    }\n",
       "\n",
       "    .dataframe tbody tr th {\n",
       "        vertical-align: top;\n",
       "    }\n",
       "\n",
       "    .dataframe thead th {\n",
       "        text-align: right;\n",
       "    }\n",
       "</style>\n",
       "<table border=\"1\" class=\"dataframe\">\n",
       "  <thead>\n",
       "    <tr style=\"text-align: right;\">\n",
       "      <th></th>\n",
       "      <th>weekday</th>\n",
       "    </tr>\n",
       "    <tr>\n",
       "      <th>date</th>\n",
       "      <th></th>\n",
       "    </tr>\n",
       "  </thead>\n",
       "  <tbody>\n",
       "  </tbody>\n",
       "</table>\n",
       "</div>"
      ],
      "text/plain": [
       "Empty DataFrame\n",
       "Columns: [weekday]\n",
       "Index: []"
      ]
     },
     "execution_count": 346,
     "metadata": {},
     "output_type": "execute_result"
    }
   ],
   "source": [
    "data.loc[data['weekday']!=6]"
   ]
  },
  {
   "cell_type": "code",
   "execution_count": 347,
   "metadata": {},
   "outputs": [],
   "source": [
    "dados20140518_20180826 = data"
   ]
  },
  {
   "cell_type": "code",
   "execution_count": 385,
   "metadata": {},
   "outputs": [],
   "source": [
    "teste = pd.date_range(start='2014-05-18',end='2018-08-26',freq='W')"
   ]
  },
  {
   "cell_type": "code",
   "execution_count": 569,
   "metadata": {},
   "outputs": [],
   "source": [
    "#teste.strftime('%B')"
   ]
  },
  {
   "cell_type": "code",
   "execution_count": 419,
   "metadata": {},
   "outputs": [],
   "source": [
    "todososdomingos20140518_20180826 = pd.date_range(start='2014-05-18',end='2018-08-26',freq='W')"
   ]
  },
  {
   "cell_type": "code",
   "execution_count": 420,
   "metadata": {},
   "outputs": [
    {
     "data": {
      "text/plain": [
       "57"
      ]
     },
     "execution_count": 420,
     "metadata": {},
     "output_type": "execute_result"
    }
   ],
   "source": [
    "len(todososdomingos20140518_20180826) - len(dados20140518_20180826)"
   ]
  },
  {
   "cell_type": "code",
   "execution_count": 421,
   "metadata": {},
   "outputs": [],
   "source": [
    "todososdomingos20140518_20180826 = pd.DataFrame(np.array(todososdomingos20140518_20180826), columns=['date'])"
   ]
  },
  {
   "cell_type": "code",
   "execution_count": 353,
   "metadata": {},
   "outputs": [],
   "source": [
    "todososdomingos20140518_20180826.index = todososdomingos20140518_20180826['date']\n",
    "todososdomingos20140518_20180826 = todososdomingos20140518_20180826.drop('date', axis=1)"
   ]
  },
  {
   "cell_type": "code",
   "execution_count": 356,
   "metadata": {},
   "outputs": [
    {
     "data": {
      "text/plain": [
       "167"
      ]
     },
     "execution_count": 356,
     "metadata": {},
     "output_type": "execute_result"
    }
   ],
   "source": [
    "month = []\n",
    "for i,_ in enumerate(dados20140518_20180826.index):\n",
    "    month += [dados20140518_20180826.index[i].month]\n",
    "dados20140518_20180826.index[0].month\n",
    "len(dados20140518_20180826)"
   ]
  },
  {
   "cell_type": "code",
   "execution_count": 422,
   "metadata": {},
   "outputs": [
    {
     "data": {
      "text/plain": [
       "224"
      ]
     },
     "execution_count": 422,
     "metadata": {},
     "output_type": "execute_result"
    }
   ],
   "source": [
    "month = []\n",
    "for ide,_ in enumerate(todososdomingos20140518_20180826['date']):\n",
    "    month += [todososdomingos20140518_20180826['date'][ide].month]\n",
    "todososdomingos20140518_20180826['month'] = month\n",
    "len(todososdomingos20140518_20180826)"
   ]
  },
  {
   "cell_type": "code",
   "execution_count": 360,
   "metadata": {},
   "outputs": [],
   "source": [
    "#todososdomingosnov205_aug2018.loc[todososdomingosnov205_aug2018['ocorreu'] == False]['ocorreu']"
   ]
  },
  {
   "cell_type": "code",
   "execution_count": 423,
   "metadata": {},
   "outputs": [],
   "source": [
    "ocorreu = []\n",
    "for i,_ in enumerate(todososdomingos20140518_20180826['date']):\n",
    "    ocorreu += [a todososdomingos20140518_20180826['date'][i] in dados20140518_20180826.index]\n",
    "todososdomingos20140518_20180826['ocorreu'] = ocorreu"
   ]
  },
  {
   "cell_type": "code",
   "execution_count": 675,
   "metadata": {},
   "outputs": [],
   "source": [
    "dados = todososdomingos20140518_20180826.drop(['ocorreunum','month'],axis=1)\n",
    "dados.iloc[:,0:2].to_csv('YAAL_data.csv')"
   ]
  },
  {
   "cell_type": "code",
   "execution_count": 644,
   "metadata": {},
   "outputs": [],
   "source": [
    "#todososdomingos20140518_20180826['ocorreunum'] = 1 if (todososdomingos20140518_20180826['ocorreu'] == True) else 0\n",
    "#todososdomingos20140518_20180826.loc[todososdomingos20140518_20180826['ocorreu'] == False]['ocorreunum']=0\n",
    "falseMonthOccur = todososdomingos20140518_20180826[todososdomingos20140518_20180826['ocorreu']==False].groupby(todososdomingos20140518_20180826['date'].dt.strftime('%B')).count()['ocorreu']\n",
    "trueMonthOccur = todososdomingos20140518_20180826[todososdomingos20140518_20180826['ocorreu']==True].groupby(todososdomingos20140518_20180826['date'].dt.strftime('%B')).count()['ocorreu']\n",
    "allMonthOccur = todososdomingos20140518_20180826.groupby(todososdomingos20140518_20180826['date'].dt.strftime('%B')).count()['ocorreu']\n",
    "\n",
    "monthBarDf = pd.DataFrame(100*falseMonthOccur.astype(float)/allMonthOccur.astype(float))\n",
    "\n",
    "monthBarDf['naoocorreu'] = 100*trueMonthOccur.astype(float)/allMonthOccur.astype(float)\n",
    "monthBarDf.rename(index=str, columns={\"ocorreu\":\"naoocorreu\",\"naoocorreu\":\"ocorreu\"},inplace=True)\n",
    "monthBarDf = monthBarDf.sort_values('naoocorreu',ascending=True)\n",
    "#monthBarDf\n",
    "#falseMonthOccur.astype(float)/allMonthOccur.astype(float)"
   ]
  },
  {
   "cell_type": "code",
   "execution_count": 659,
   "metadata": {},
   "outputs": [
    {
     "data": {
      "image/png": "[encoded data removed]",
      "text/plain": [
       "<Figure size 864x432 with 1 Axes>"
      ]
     },
     "metadata": {},
     "output_type": "display_data"
    }
   ],
   "source": [
    "monthBarDf.plot(kind='barh', color=[sns.xkcd_rgb[\"pale red\"],sns.xkcd_rgb[\"denim blue\"]],stacked=True,figsize=(12,6))\n",
    "plt.ylabel('')\n",
    "#plt.xlim((0,60))\n",
    "plt.xlabel('Porcentagem de fins de semana sem YAAL (%)')\n",
    "plt.legend(['Não ocorreu','Ocorreu'],bbox_to_anchor=(1.0, 0.61))\n",
    "plt.show()"
   ]
  },
  {
   "cell_type": "code",
   "execution_count": 514,
   "metadata": {},
   "outputs": [],
   "source": [
    "monthBarDfDisp = pd.DataFrame(100*monthBarDf).style.format({'ocorreu': '{:.2f}%'.format})"
   ]
  },
  {
   "cell_type": "code",
   "execution_count": 618,
   "metadata": {},
   "outputs": [],
   "source": [
    "#pd.DataFrame(monthBarDf).index"
   ]
  },
  {
   "cell_type": "code",
   "execution_count": 663,
   "metadata": {},
   "outputs": [
    {
     "data": {
      "image/png": "[encoded data removed]",
      "text/plain": [
       "<Figure size 720x360 with 1 Axes>"
      ]
     },
     "metadata": {},
     "output_type": "display_data"
    }
   ],
   "source": [
    "plt.figure(figsize=(10,5))\n",
    "ax = sns.barplot(x='naoocorreu',y=pd.DataFrame(monthBarDf).index,data=pd.DataFrame(monthBarDf), palette=\"BuGn_r\")\n",
    "plt.ylabel('')\n",
    "plt.xlabel('Porcentagem de fins de semana sem YAAL (%)')\n",
    "plt.show()"
   ]
  },
  {
   "cell_type": "code",
   "execution_count": 570,
   "metadata": {},
   "outputs": [
    {
     "data": {
      "image/png": "[encoded data removed]",
      "text/plain": [
       "<Figure size 720x360 with 1 Axes>"
      ]
     },
     "metadata": {},
     "output_type": "display_data"
    }
   ],
   "source": [
    "monthBarDf.plot(kind='barh',sort_columns = False, colormap = 'coolwarm',  figsize=(10,5))\n",
    "plt.ylabel('')\n",
    "plt.xlabel('Porcentagem de fins de semana sem YAAL (%)')\n",
    "#ax = sns.barplot(\"size\", y=\"total_bill\", palette=\"Blues_d\")\n",
    "plt.show()"
   ]
  },
  {
   "cell_type": "code",
   "execution_count": 540,
   "metadata": {},
   "outputs": [],
   "source": [
    "falseYearOccur = todososdomingos20140518_20180826[todososdomingos20140518_20180826['ocorreu']==False].groupby(todososdomingos20140518_20180826['date'].dt.strftime('%Y')).count()['ocorreu']\n",
    "allYearOccur = todososdomingos20140518_20180826.groupby(todososdomingos20140518_20180826['date'].dt.strftime('%Y')).count()['ocorreu']\n",
    "YearBarDf = (falseYearOccur.astype(float) / allYearOccur.astype(float))*100\n",
    "YearBarDf = YearBarDf.sort_values()"
   ]
  },
  {
   "cell_type": "code",
   "execution_count": 541,
   "metadata": {},
   "outputs": [
    {
     "data": {
      "image/png": "[encoded data removed]",
      "text/plain": [
       "<Figure size 720x360 with 1 Axes>"
      ]
     },
     "metadata": {},
     "output_type": "display_data"
    }
   ],
   "source": [
    "YearBarDf.plot.barh(sort_columns = False, colormap = 'coolwarm', figsize=(10,5))\n",
    "plt.ylabel('')\n",
    "plt.xlabel('Porcentagem de fins de semana sem YAAL (%)')\n",
    "plt.show()"
   ]
  },
  {
   "cell_type": "code",
   "execution_count": 416,
   "metadata": {},
   "outputs": [
    {
     "data": {
      "text/plain": [
       "<pandas.core.groupby.DataFrameGroupBy object at 0x7f0af8b92e48>"
      ]
     },
     "execution_count": 416,
     "metadata": {},
     "output_type": "execute_result"
    }
   ],
   "source": [
    "#listmonthsname = ['Jan','Fev','Mar','Abr','Mai','Jun','Jul','Ago','Set','Out','Nov','Dez']\n",
    "#listmonths = list(range(1,13))\n",
    "#.plot.hist('month',  figsize=(10,5), bins=12)\n",
    "#plt.xticks(listmonths,listmonthsname, va='center')\n",
    "#plt.show()"
   ]
  },
  {
   "cell_type": "code",
   "execution_count": 488,
   "metadata": {},
   "outputs": [],
   "source": [
    "#pd.options.display.float_format = '{:.2f}%'.format"
   ]
  },
  {
   "cell_type": "code",
   "execution_count": 687,
   "metadata": {},
   "outputs": [],
   "source": [
    "data2 = pd.read_csv('YAAL_data.csv', parse_dates = True, infer_datetime_format=True, index_col=0)"
   ]
  },
  {
   "cell_type": "code",
   "execution_count": 688,
   "metadata": {},
   "outputs": [],
   "source": [
    "data2['date'] = pd.to_datetime(data2['date'], format=\"%Y-%m-%d\")"
   ]
  },
  {
   "cell_type": "code",
   "execution_count": 689,
   "metadata": {},
   "outputs": [
    {
     "data": {
      "text/html": [
       "<div>\n",
       "<style scoped>\n",
       "    .dataframe tbody tr th:only-of-type {\n",
       "        vertical-align: middle;\n",
       "    }\n",
       "\n",
       "    .dataframe tbody tr th {\n",
       "        vertical-align: top;\n",
       "    }\n",
       "\n",
       "    .dataframe thead th {\n",
       "        text-align: right;\n",
       "    }\n",
       "</style>\n",
       "<table border=\"1\" class=\"dataframe\">\n",
       "  <thead>\n",
       "    <tr style=\"text-align: right;\">\n",
       "      <th></th>\n",
       "      <th>date</th>\n",
       "      <th>ocorreu</th>\n",
       "      <th>pessoas</th>\n",
       "      <th>homens</th>\n",
       "      <th>mulheres</th>\n",
       "      <th>local</th>\n",
       "    </tr>\n",
       "  </thead>\n",
       "  <tbody>\n",
       "    <tr>\n",
       "      <th>0</th>\n",
       "      <td>2014-05-18</td>\n",
       "      <td>True</td>\n",
       "      <td>0.000000</td>\n",
       "      <td>0</td>\n",
       "      <td>0</td>\n",
       "      <td>primeiro</td>\n",
       "    </tr>\n",
       "    <tr>\n",
       "      <th>1</th>\n",
       "      <td>2014-05-25</td>\n",
       "      <td>True</td>\n",
       "      <td>0.000000</td>\n",
       "      <td>0</td>\n",
       "      <td>0</td>\n",
       "      <td>primeiro</td>\n",
       "    </tr>\n",
       "    <tr>\n",
       "      <th>2</th>\n",
       "      <td>2014-06-01</td>\n",
       "      <td>True</td>\n",
       "      <td>0.000000</td>\n",
       "      <td>0</td>\n",
       "      <td>0</td>\n",
       "      <td>primeiro</td>\n",
       "    </tr>\n",
       "    <tr>\n",
       "      <th>3</th>\n",
       "      <td>2014-06-08</td>\n",
       "      <td>True</td>\n",
       "      <td>0.000000</td>\n",
       "      <td>0</td>\n",
       "      <td>0</td>\n",
       "      <td>primeiro</td>\n",
       "    </tr>\n",
       "    <tr>\n",
       "      <th>4</th>\n",
       "      <td>2014-06-15</td>\n",
       "      <td>True</td>\n",
       "      <td>0.000000</td>\n",
       "      <td>0</td>\n",
       "      <td>0</td>\n",
       "      <td>NaN</td>\n",
       "    </tr>\n",
       "    <tr>\n",
       "      <th>5</th>\n",
       "      <td>2014-06-22</td>\n",
       "      <td>True</td>\n",
       "      <td>0.000000</td>\n",
       "      <td>0</td>\n",
       "      <td>0</td>\n",
       "      <td>NaN</td>\n",
       "    </tr>\n",
       "    <tr>\n",
       "      <th>6</th>\n",
       "      <td>2014-06-29</td>\n",
       "      <td>True</td>\n",
       "      <td>0.000000</td>\n",
       "      <td>0</td>\n",
       "      <td>0</td>\n",
       "      <td>NaN</td>\n",
       "    </tr>\n",
       "    <tr>\n",
       "      <th>7</th>\n",
       "      <td>2014-07-06</td>\n",
       "      <td>True</td>\n",
       "      <td>0.000000</td>\n",
       "      <td>0</td>\n",
       "      <td>0</td>\n",
       "      <td>NaN</td>\n",
       "    </tr>\n",
       "    <tr>\n",
       "      <th>8</th>\n",
       "      <td>2014-07-13</td>\n",
       "      <td>True</td>\n",
       "      <td>0.000000</td>\n",
       "      <td>0</td>\n",
       "      <td>0</td>\n",
       "      <td>NaN</td>\n",
       "    </tr>\n",
       "    <tr>\n",
       "      <th>9</th>\n",
       "      <td>2014-07-20</td>\n",
       "      <td>True</td>\n",
       "      <td>0.000000</td>\n",
       "      <td>0</td>\n",
       "      <td>0</td>\n",
       "      <td>NaN</td>\n",
       "    </tr>\n",
       "    <tr>\n",
       "      <th>10</th>\n",
       "      <td>2014-07-27</td>\n",
       "      <td>False</td>\n",
       "      <td>0.000000</td>\n",
       "      <td>0</td>\n",
       "      <td>0</td>\n",
       "      <td>NaN</td>\n",
       "    </tr>\n",
       "    <tr>\n",
       "      <th>11</th>\n",
       "      <td>2014-08-03</td>\n",
       "      <td>True</td>\n",
       "      <td>0.000000</td>\n",
       "      <td>0</td>\n",
       "      <td>0</td>\n",
       "      <td>NaN</td>\n",
       "    </tr>\n",
       "    <tr>\n",
       "      <th>12</th>\n",
       "      <td>2014-08-10</td>\n",
       "      <td>True</td>\n",
       "      <td>0.000000</td>\n",
       "      <td>0</td>\n",
       "      <td>0</td>\n",
       "      <td>NaN</td>\n",
       "    </tr>\n",
       "    <tr>\n",
       "      <th>13</th>\n",
       "      <td>2014-08-17</td>\n",
       "      <td>False</td>\n",
       "      <td>0.000000</td>\n",
       "      <td>0</td>\n",
       "      <td>0</td>\n",
       "      <td>NaN</td>\n",
       "    </tr>\n",
       "    <tr>\n",
       "      <th>14</th>\n",
       "      <td>2014-08-24</td>\n",
       "      <td>True</td>\n",
       "      <td>0.000000</td>\n",
       "      <td>0</td>\n",
       "      <td>0</td>\n",
       "      <td>NaN</td>\n",
       "    </tr>\n",
       "    <tr>\n",
       "      <th>15</th>\n",
       "      <td>2014-08-31</td>\n",
       "      <td>True</td>\n",
       "      <td>0.000000</td>\n",
       "      <td>0</td>\n",
       "      <td>0</td>\n",
       "      <td>NaN</td>\n",
       "    </tr>\n",
       "    <tr>\n",
       "      <th>16</th>\n",
       "      <td>2014-09-07</td>\n",
       "      <td>True</td>\n",
       "      <td>0.000000</td>\n",
       "      <td>0</td>\n",
       "      <td>0</td>\n",
       "      <td>NaN</td>\n",
       "    </tr>\n",
       "    <tr>\n",
       "      <th>17</th>\n",
       "      <td>2014-09-14</td>\n",
       "      <td>True</td>\n",
       "      <td>0.000000</td>\n",
       "      <td>0</td>\n",
       "      <td>0</td>\n",
       "      <td>NaN</td>\n",
       "    </tr>\n",
       "    <tr>\n",
       "      <th>18</th>\n",
       "      <td>2014-09-21</td>\n",
       "      <td>True</td>\n",
       "      <td>0.000000</td>\n",
       "      <td>0</td>\n",
       "      <td>0</td>\n",
       "      <td>NaN</td>\n",
       "    </tr>\n",
       "    <tr>\n",
       "      <th>19</th>\n",
       "      <td>2014-09-28</td>\n",
       "      <td>True</td>\n",
       "      <td>0.000000</td>\n",
       "      <td>0</td>\n",
       "      <td>0</td>\n",
       "      <td>NaN</td>\n",
       "    </tr>\n",
       "    <tr>\n",
       "      <th>20</th>\n",
       "      <td>2014-10-05</td>\n",
       "      <td>True</td>\n",
       "      <td>0.000000</td>\n",
       "      <td>0</td>\n",
       "      <td>0</td>\n",
       "      <td>NaN</td>\n",
       "    </tr>\n",
       "    <tr>\n",
       "      <th>21</th>\n",
       "      <td>2014-10-12</td>\n",
       "      <td>True</td>\n",
       "      <td>0.000000</td>\n",
       "      <td>0</td>\n",
       "      <td>0</td>\n",
       "      <td>NaN</td>\n",
       "    </tr>\n",
       "    <tr>\n",
       "      <th>22</th>\n",
       "      <td>2014-10-19</td>\n",
       "      <td>True</td>\n",
       "      <td>0.000000</td>\n",
       "      <td>0</td>\n",
       "      <td>0</td>\n",
       "      <td>NaN</td>\n",
       "    </tr>\n",
       "    <tr>\n",
       "      <th>23</th>\n",
       "      <td>2014-10-26</td>\n",
       "      <td>True</td>\n",
       "      <td>0.000000</td>\n",
       "      <td>0</td>\n",
       "      <td>0</td>\n",
       "      <td>NaN</td>\n",
       "    </tr>\n",
       "    <tr>\n",
       "      <th>24</th>\n",
       "      <td>2014-11-02</td>\n",
       "      <td>True</td>\n",
       "      <td>0.000000</td>\n",
       "      <td>0</td>\n",
       "      <td>0</td>\n",
       "      <td>NaN</td>\n",
       "    </tr>\n",
       "    <tr>\n",
       "      <th>25</th>\n",
       "      <td>2014-11-09</td>\n",
       "      <td>False</td>\n",
       "      <td>0.000000</td>\n",
       "      <td>0</td>\n",
       "      <td>0</td>\n",
       "      <td>NaN</td>\n",
       "    </tr>\n",
       "    <tr>\n",
       "      <th>26</th>\n",
       "      <td>2014-11-16</td>\n",
       "      <td>True</td>\n",
       "      <td>0.000000</td>\n",
       "      <td>0</td>\n",
       "      <td>0</td>\n",
       "      <td>NaN</td>\n",
       "    </tr>\n",
       "    <tr>\n",
       "      <th>27</th>\n",
       "      <td>2014-11-23</td>\n",
       "      <td>False</td>\n",
       "      <td>0.000000</td>\n",
       "      <td>0</td>\n",
       "      <td>0</td>\n",
       "      <td>NaN</td>\n",
       "    </tr>\n",
       "    <tr>\n",
       "      <th>28</th>\n",
       "      <td>2014-11-30</td>\n",
       "      <td>True</td>\n",
       "      <td>0.000000</td>\n",
       "      <td>0</td>\n",
       "      <td>0</td>\n",
       "      <td>NaN</td>\n",
       "    </tr>\n",
       "    <tr>\n",
       "      <th>29</th>\n",
       "      <td>2014-12-07</td>\n",
       "      <td>True</td>\n",
       "      <td>0.000000</td>\n",
       "      <td>0</td>\n",
       "      <td>0</td>\n",
       "      <td>NaN</td>\n",
       "    </tr>\n",
       "    <tr>\n",
       "      <th>...</th>\n",
       "      <td>...</td>\n",
       "      <td>...</td>\n",
       "      <td>...</td>\n",
       "      <td>...</td>\n",
       "      <td>...</td>\n",
       "      <td>...</td>\n",
       "    </tr>\n",
       "    <tr>\n",
       "      <th>194</th>\n",
       "      <td>2018-02-04</td>\n",
       "      <td>True</td>\n",
       "      <td>73.000000</td>\n",
       "      <td>0</td>\n",
       "      <td>0</td>\n",
       "      <td>novo</td>\n",
       "    </tr>\n",
       "    <tr>\n",
       "      <th>195</th>\n",
       "      <td>2018-02-11</td>\n",
       "      <td>True</td>\n",
       "      <td>87.000000</td>\n",
       "      <td>0</td>\n",
       "      <td>0</td>\n",
       "      <td>novo</td>\n",
       "    </tr>\n",
       "    <tr>\n",
       "      <th>196</th>\n",
       "      <td>2018-02-18</td>\n",
       "      <td>True</td>\n",
       "      <td>87.000000</td>\n",
       "      <td>0</td>\n",
       "      <td>0</td>\n",
       "      <td>coberto</td>\n",
       "    </tr>\n",
       "    <tr>\n",
       "      <th>197</th>\n",
       "      <td>2018-02-25</td>\n",
       "      <td>True</td>\n",
       "      <td>84.000000</td>\n",
       "      <td>0</td>\n",
       "      <td>0</td>\n",
       "      <td>novo</td>\n",
       "    </tr>\n",
       "    <tr>\n",
       "      <th>198</th>\n",
       "      <td>2018-03-04</td>\n",
       "      <td>True</td>\n",
       "      <td>64.000000</td>\n",
       "      <td>0</td>\n",
       "      <td>0</td>\n",
       "      <td>novo</td>\n",
       "    </tr>\n",
       "    <tr>\n",
       "      <th>199</th>\n",
       "      <td>2018-03-11</td>\n",
       "      <td>True</td>\n",
       "      <td>58.000000</td>\n",
       "      <td>0</td>\n",
       "      <td>0</td>\n",
       "      <td>novo</td>\n",
       "    </tr>\n",
       "    <tr>\n",
       "      <th>200</th>\n",
       "      <td>2018-03-18</td>\n",
       "      <td>True</td>\n",
       "      <td>85.000000</td>\n",
       "      <td>0</td>\n",
       "      <td>0</td>\n",
       "      <td>novo</td>\n",
       "    </tr>\n",
       "    <tr>\n",
       "      <th>201</th>\n",
       "      <td>2018-03-25</td>\n",
       "      <td>True</td>\n",
       "      <td>92.000000</td>\n",
       "      <td>0</td>\n",
       "      <td>0</td>\n",
       "      <td>novo</td>\n",
       "    </tr>\n",
       "    <tr>\n",
       "      <th>202</th>\n",
       "      <td>2018-04-01</td>\n",
       "      <td>False</td>\n",
       "      <td>0.000000</td>\n",
       "      <td>0</td>\n",
       "      <td>0</td>\n",
       "      <td>novo</td>\n",
       "    </tr>\n",
       "    <tr>\n",
       "      <th>203</th>\n",
       "      <td>2018-04-08</td>\n",
       "      <td>True</td>\n",
       "      <td>84.000000</td>\n",
       "      <td>0</td>\n",
       "      <td>0</td>\n",
       "      <td>novo</td>\n",
       "    </tr>\n",
       "    <tr>\n",
       "      <th>204</th>\n",
       "      <td>2018-04-15</td>\n",
       "      <td>False</td>\n",
       "      <td>0.000000</td>\n",
       "      <td>0</td>\n",
       "      <td>0</td>\n",
       "      <td>novo</td>\n",
       "    </tr>\n",
       "    <tr>\n",
       "      <th>205</th>\n",
       "      <td>2018-04-22</td>\n",
       "      <td>True</td>\n",
       "      <td>98.000000</td>\n",
       "      <td>0</td>\n",
       "      <td>0</td>\n",
       "      <td>novo</td>\n",
       "    </tr>\n",
       "    <tr>\n",
       "      <th>206</th>\n",
       "      <td>2018-04-29</td>\n",
       "      <td>True</td>\n",
       "      <td>85.000000</td>\n",
       "      <td>0</td>\n",
       "      <td>0</td>\n",
       "      <td>novo</td>\n",
       "    </tr>\n",
       "    <tr>\n",
       "      <th>207</th>\n",
       "      <td>2018-05-06</td>\n",
       "      <td>True</td>\n",
       "      <td>59.000000</td>\n",
       "      <td>0</td>\n",
       "      <td>0</td>\n",
       "      <td>novo</td>\n",
       "    </tr>\n",
       "    <tr>\n",
       "      <th>208</th>\n",
       "      <td>2018-05-13</td>\n",
       "      <td>False</td>\n",
       "      <td>0.000000</td>\n",
       "      <td>0</td>\n",
       "      <td>0</td>\n",
       "      <td>novo</td>\n",
       "    </tr>\n",
       "    <tr>\n",
       "      <th>209</th>\n",
       "      <td>2018-05-20</td>\n",
       "      <td>True</td>\n",
       "      <td>48.000000</td>\n",
       "      <td>0</td>\n",
       "      <td>0</td>\n",
       "      <td>novo</td>\n",
       "    </tr>\n",
       "    <tr>\n",
       "      <th>210</th>\n",
       "      <td>2018-05-27</td>\n",
       "      <td>True</td>\n",
       "      <td>63.000000</td>\n",
       "      <td>0</td>\n",
       "      <td>0</td>\n",
       "      <td>novo</td>\n",
       "    </tr>\n",
       "    <tr>\n",
       "      <th>211</th>\n",
       "      <td>2018-06-03</td>\n",
       "      <td>False</td>\n",
       "      <td>0.000000</td>\n",
       "      <td>0</td>\n",
       "      <td>0</td>\n",
       "      <td>novo</td>\n",
       "    </tr>\n",
       "    <tr>\n",
       "      <th>212</th>\n",
       "      <td>2018-06-10</td>\n",
       "      <td>True</td>\n",
       "      <td>61.000000</td>\n",
       "      <td>0</td>\n",
       "      <td>0</td>\n",
       "      <td>gincana</td>\n",
       "    </tr>\n",
       "    <tr>\n",
       "      <th>213</th>\n",
       "      <td>2018-06-17</td>\n",
       "      <td>True</td>\n",
       "      <td>36.000000</td>\n",
       "      <td>0</td>\n",
       "      <td>0</td>\n",
       "      <td>novo</td>\n",
       "    </tr>\n",
       "    <tr>\n",
       "      <th>214</th>\n",
       "      <td>2018-06-24</td>\n",
       "      <td>True</td>\n",
       "      <td>88.000000</td>\n",
       "      <td>0</td>\n",
       "      <td>0</td>\n",
       "      <td>novo</td>\n",
       "    </tr>\n",
       "    <tr>\n",
       "      <th>215</th>\n",
       "      <td>2018-07-01</td>\n",
       "      <td>True</td>\n",
       "      <td>82.000000</td>\n",
       "      <td>0</td>\n",
       "      <td>0</td>\n",
       "      <td>novo</td>\n",
       "    </tr>\n",
       "    <tr>\n",
       "      <th>216</th>\n",
       "      <td>2018-07-08</td>\n",
       "      <td>True</td>\n",
       "      <td>80.000000</td>\n",
       "      <td>0</td>\n",
       "      <td>0</td>\n",
       "      <td>novo</td>\n",
       "    </tr>\n",
       "    <tr>\n",
       "      <th>217</th>\n",
       "      <td>2018-07-15</td>\n",
       "      <td>True</td>\n",
       "      <td>86.000000</td>\n",
       "      <td>0</td>\n",
       "      <td>0</td>\n",
       "      <td>novo</td>\n",
       "    </tr>\n",
       "    <tr>\n",
       "      <th>218</th>\n",
       "      <td>2018-07-22</td>\n",
       "      <td>True</td>\n",
       "      <td>73.000000</td>\n",
       "      <td>0</td>\n",
       "      <td>0</td>\n",
       "      <td>novo</td>\n",
       "    </tr>\n",
       "    <tr>\n",
       "      <th>219</th>\n",
       "      <td>2018-07-29</td>\n",
       "      <td>True</td>\n",
       "      <td>74.000000</td>\n",
       "      <td>0</td>\n",
       "      <td>0</td>\n",
       "      <td>novo</td>\n",
       "    </tr>\n",
       "    <tr>\n",
       "      <th>220</th>\n",
       "      <td>2018-08-05</td>\n",
       "      <td>True</td>\n",
       "      <td>58.000000</td>\n",
       "      <td>0</td>\n",
       "      <td>0</td>\n",
       "      <td>novo</td>\n",
       "    </tr>\n",
       "    <tr>\n",
       "      <th>221</th>\n",
       "      <td>2018-08-12</td>\n",
       "      <td>True</td>\n",
       "      <td>66.000000</td>\n",
       "      <td>0</td>\n",
       "      <td>0</td>\n",
       "      <td>novo</td>\n",
       "    </tr>\n",
       "    <tr>\n",
       "      <th>222</th>\n",
       "      <td>2018-08-19</td>\n",
       "      <td>True</td>\n",
       "      <td>86.000000</td>\n",
       "      <td>0</td>\n",
       "      <td>0</td>\n",
       "      <td>novo</td>\n",
       "    </tr>\n",
       "    <tr>\n",
       "      <th>223</th>\n",
       "      <td>2018-08-26</td>\n",
       "      <td>False</td>\n",
       "      <td>0.000000</td>\n",
       "      <td>0</td>\n",
       "      <td>0</td>\n",
       "      <td>novo</td>\n",
       "    </tr>\n",
       "  </tbody>\n",
       "</table>\n",
       "<p>224 rows × 6 columns</p>\n",
       "</div>"
      ],
      "text/plain": [
       "          date  ocorreu   pessoas  homens  mulheres     local\n",
       "0   2014-05-18     True  0.000000       0         0  primeiro\n",
       "1   2014-05-25     True  0.000000       0         0  primeiro\n",
       "2   2014-06-01     True  0.000000       0         0  primeiro\n",
       "3   2014-06-08     True  0.000000       0         0  primeiro\n",
       "4   2014-06-15     True  0.000000       0         0       NaN\n",
       "5   2014-06-22     True  0.000000       0         0       NaN\n",
       "6   2014-06-29     True  0.000000       0         0       NaN\n",
       "7   2014-07-06     True  0.000000       0         0       NaN\n",
       "8   2014-07-13     True  0.000000       0         0       NaN\n",
       "9   2014-07-20     True  0.000000       0         0       NaN\n",
       "10  2014-07-27    False  0.000000       0         0       NaN\n",
       "11  2014-08-03     True  0.000000       0         0       NaN\n",
       "12  2014-08-10     True  0.000000       0         0       NaN\n",
       "13  2014-08-17    False  0.000000       0         0       NaN\n",
       "14  2014-08-24     True  0.000000       0         0       NaN\n",
       "15  2014-08-31     True  0.000000       0         0       NaN\n",
       "16  2014-09-07     True  0.000000       0         0       NaN\n",
       "17  2014-09-14     True  0.000000       0         0       NaN\n",
       "18  2014-09-21     True  0.000000       0         0       NaN\n",
       "19  2014-09-28     True  0.000000       0         0       NaN\n",
       "20  2014-10-05     True  0.000000       0         0       NaN\n",
       "21  2014-10-12     True  0.000000       0         0       NaN\n",
       "22  2014-10-19     True  0.000000       0         0       NaN\n",
       "23  2014-10-26     True  0.000000       0         0       NaN\n",
       "24  2014-11-02     True  0.000000       0         0       NaN\n",
       "25  2014-11-09    False  0.000000       0         0       NaN\n",
       "26  2014-11-16     True  0.000000       0         0       NaN\n",
       "27  2014-11-23    False  0.000000       0         0       NaN\n",
       "28  2014-11-30     True  0.000000       0         0       NaN\n",
       "29  2014-12-07     True  0.000000       0         0       NaN\n",
       "..         ...      ...       ...     ...       ...       ...\n",
       "194 2018-02-04     True 73.000000       0         0      novo\n",
       "195 2018-02-11     True 87.000000       0         0      novo\n",
       "196 2018-02-18     True 87.000000       0         0   coberto\n",
       "197 2018-02-25     True 84.000000       0         0      novo\n",
       "198 2018-03-04     True 64.000000       0         0      novo\n",
       "199 2018-03-11     True 58.000000       0         0      novo\n",
       "200 2018-03-18     True 85.000000       0         0      novo\n",
       "201 2018-03-25     True 92.000000       0         0      novo\n",
       "202 2018-04-01    False  0.000000       0         0      novo\n",
       "203 2018-04-08     True 84.000000       0         0      novo\n",
       "204 2018-04-15    False  0.000000       0         0      novo\n",
       "205 2018-04-22     True 98.000000       0         0      novo\n",
       "206 2018-04-29     True 85.000000       0         0      novo\n",
       "207 2018-05-06     True 59.000000       0         0      novo\n",
       "208 2018-05-13    False  0.000000       0         0      novo\n",
       "209 2018-05-20     True 48.000000       0         0      novo\n",
       "210 2018-05-27     True 63.000000       0         0      novo\n",
       "211 2018-06-03    False  0.000000       0         0      novo\n",
       "212 2018-06-10     True 61.000000       0         0   gincana\n",
       "213 2018-06-17     True 36.000000       0         0      novo\n",
       "214 2018-06-24     True 88.000000       0         0      novo\n",
       "215 2018-07-01     True 82.000000       0         0      novo\n",
       "216 2018-07-08     True 80.000000       0         0      novo\n",
       "217 2018-07-15     True 86.000000       0         0      novo\n",
       "218 2018-07-22     True 73.000000       0         0      novo\n",
       "219 2018-07-29     True 74.000000       0         0      novo\n",
       "220 2018-08-05     True 58.000000       0         0      novo\n",
       "221 2018-08-12     True 66.000000       0         0      novo\n",
       "222 2018-08-19     True 86.000000       0         0      novo\n",
       "223 2018-08-26    False  0.000000       0         0      novo\n",
       "\n",
       "[224 rows x 6 columns]"
      ]
     },
     "execution_count": 689,
     "metadata": {},
     "output_type": "execute_result"
    }
   ],
   "source": [
    "data2"
   ]
  },
  {
   "cell_type": "code",
   "execution_count": 692,
   "metadata": {},
   "outputs": [
    {
     "data": {
      "text/plain": [
       "<matplotlib.axes._subplots.AxesSubplot at 0x7f0af49bf390>"
      ]
     },
     "execution_count": 692,
     "metadata": {},
     "output_type": "execute_result"
    },
    {
     "data": {
      "image/png": "[encoded data removed]",
      "text/plain": [
       "<Figure size 864x432 with 1 Axes>"
      ]
     },
     "metadata": {},
     "output_type": "display_data"
    }
   ],
   "source": [
    "data2.plot(kind='line',x='date',y='pessoas', figsize=(12,6))"
   ]
  },
  {
   "cell_type": "code",
   "execution_count": null,
   "metadata": {},
   "outputs": [],
   "source": []
  }
 ],
 "metadata": {
  "kernelspec": {
   "display_name": "Python 3",
   "language": "python",
   "name": "python3"
  },
  "language_info": {
   "codemirror_mode": {
    "name": "ipython",
    "version": 3
   },
   "file_extension": ".py",
   "mimetype": "text/x-python",
   "name": "python",
   "nbconvert_exporter": "python",
   "pygments_lexer": "ipython3",
   "version": "3.5.2"
  }
 },
 "nbformat": 4,
 "nbformat_minor": 2
}
